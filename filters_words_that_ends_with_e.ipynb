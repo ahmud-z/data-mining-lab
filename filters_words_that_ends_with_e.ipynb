{
 "cells": [
  {
   "cell_type": "markdown",
   "id": "7138de25",
   "metadata": {},
   "source": [
    "### Find words that ends with 'e' from a list of words"
   ]
  },
  {
   "cell_type": "code",
   "execution_count": 1,
   "id": "d23fb658",
   "metadata": {},
   "outputs": [],
   "source": [
    "def filter_words(words):\n",
    "\n",
    "    filtered_words = []\n",
    "\n",
    "    for word in words:\n",
    "        if word.endswith(\"e\"):\n",
    "            filtered_words.append(word)\n",
    "\n",
    "    return filtered_words"
   ]
  },
  {
   "cell_type": "code",
   "execution_count": 7,
   "id": "176b904e",
   "metadata": {},
   "outputs": [
    {
     "data": {
      "text/plain": [
       "['apple', 'orange', 'Pineapple']"
      ]
     },
     "execution_count": 7,
     "metadata": {},
     "output_type": "execute_result"
    }
   ],
   "source": [
    "fruits = ['apple', 'banana', 'orange', 'grapes', 'lemeon', 'Pineapple', 'Mango']\n",
    "filter_words(fruits)"
   ]
  }
 ],
 "metadata": {
  "kernelspec": {
   "display_name": ".venv",
   "language": "python",
   "name": "python3"
  },
  "language_info": {
   "codemirror_mode": {
    "name": "ipython",
    "version": 3
   },
   "file_extension": ".py",
   "mimetype": "text/x-python",
   "name": "python",
   "nbconvert_exporter": "python",
   "pygments_lexer": "ipython3",
   "version": "3.12.3"
  }
 },
 "nbformat": 4,
 "nbformat_minor": 5
}
