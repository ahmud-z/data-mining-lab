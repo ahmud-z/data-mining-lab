{
 "cells": [
  {
   "cell_type": "markdown",
   "id": "59cc5df4",
   "metadata": {},
   "source": [
    "### Imports Libraries"
   ]
  },
  {
   "cell_type": "code",
   "execution_count": 261,
   "id": "3cbab5b4",
   "metadata": {},
   "outputs": [],
   "source": [
    "import pandas as pd\n",
    "import numpy as np\n",
    "from sklearn.preprocessing import LabelEncoder"
   ]
  },
  {
   "cell_type": "markdown",
   "id": "f545a185",
   "metadata": {},
   "source": [
    "### Prepare dataset using pandas "
   ]
  },
  {
   "cell_type": "code",
   "execution_count": 262,
   "id": "0558c6f9",
   "metadata": {},
   "outputs": [],
   "source": [
    "data = {\n",
    "    'Job_Title': [\"Data Scientist\", \"Software Engineering\", \"Market Manager\", \"Graphic Designer\", \"Data Scientist\"],\n",
    "    'Experience': [5, 2, np.nan, 1, 8],\n",
    "    'Salary': [120, 80, 95, 50, 1500],\n",
    "    'Remote': ['yes', 'no', 'yes', 'no', np.nan]\n",
    "}\n",
    "df =  pd.DataFrame(data)"
   ]
  },
  {
   "cell_type": "code",
   "execution_count": 263,
   "id": "ff6fc8b0",
   "metadata": {},
   "outputs": [
    {
     "data": {
      "text/html": [
       "<div>\n",
       "<style scoped>\n",
       "    .dataframe tbody tr th:only-of-type {\n",
       "        vertical-align: middle;\n",
       "    }\n",
       "\n",
       "    .dataframe tbody tr th {\n",
       "        vertical-align: top;\n",
       "    }\n",
       "\n",
       "    .dataframe thead th {\n",
       "        text-align: right;\n",
       "    }\n",
       "</style>\n",
       "<table border=\"1\" class=\"dataframe\">\n",
       "  <thead>\n",
       "    <tr style=\"text-align: right;\">\n",
       "      <th></th>\n",
       "      <th>Job_Title</th>\n",
       "      <th>Experience</th>\n",
       "      <th>Salary</th>\n",
       "      <th>Remote</th>\n",
       "    </tr>\n",
       "  </thead>\n",
       "  <tbody>\n",
       "    <tr>\n",
       "      <th>0</th>\n",
       "      <td>Data Scientist</td>\n",
       "      <td>5.0</td>\n",
       "      <td>120</td>\n",
       "      <td>yes</td>\n",
       "    </tr>\n",
       "    <tr>\n",
       "      <th>1</th>\n",
       "      <td>Software Engineering</td>\n",
       "      <td>2.0</td>\n",
       "      <td>80</td>\n",
       "      <td>no</td>\n",
       "    </tr>\n",
       "    <tr>\n",
       "      <th>2</th>\n",
       "      <td>Market Manager</td>\n",
       "      <td>NaN</td>\n",
       "      <td>95</td>\n",
       "      <td>yes</td>\n",
       "    </tr>\n",
       "    <tr>\n",
       "      <th>3</th>\n",
       "      <td>Graphic Designer</td>\n",
       "      <td>1.0</td>\n",
       "      <td>50</td>\n",
       "      <td>no</td>\n",
       "    </tr>\n",
       "    <tr>\n",
       "      <th>4</th>\n",
       "      <td>Data Scientist</td>\n",
       "      <td>8.0</td>\n",
       "      <td>1500</td>\n",
       "      <td>NaN</td>\n",
       "    </tr>\n",
       "  </tbody>\n",
       "</table>\n",
       "</div>"
      ],
      "text/plain": [
       "              Job_Title  Experience  Salary Remote\n",
       "0        Data Scientist         5.0     120    yes\n",
       "1  Software Engineering         2.0      80     no\n",
       "2        Market Manager         NaN      95    yes\n",
       "3      Graphic Designer         1.0      50     no\n",
       "4        Data Scientist         8.0    1500    NaN"
      ]
     },
     "execution_count": 263,
     "metadata": {},
     "output_type": "execute_result"
    }
   ],
   "source": [
    "df.head()"
   ]
  },
  {
   "cell_type": "markdown",
   "id": "d53fd0c5",
   "metadata": {},
   "source": [
    "### Prints Atrribute names along with number of empty tuple count"
   ]
  },
  {
   "cell_type": "code",
   "execution_count": 264,
   "id": "2ed383c3",
   "metadata": {},
   "outputs": [
    {
     "name": "stdout",
     "output_type": "stream",
     "text": [
      "Atrribute - Total Empty\n",
      "-----------------------\n",
      "Job_Title     0\n",
      "Experience    1\n",
      "Salary        0\n",
      "Remote        1\n",
      "dtype: int64\n"
     ]
    }
   ],
   "source": [
    "print('Atrribute - Total Empty')\n",
    "print('-----------------------')\n",
    "print(df.isnull().sum())"
   ]
  },
  {
   "cell_type": "markdown",
   "id": "3aa0abd3",
   "metadata": {},
   "source": [
    "### Filled empty tuples of 'Experience' attribute using mean value and 'Remote' attribute using mode value"
   ]
  },
  {
   "cell_type": "code",
   "execution_count": 265,
   "id": "96d61def",
   "metadata": {},
   "outputs": [
    {
     "data": {
      "text/html": [
       "<div>\n",
       "<style scoped>\n",
       "    .dataframe tbody tr th:only-of-type {\n",
       "        vertical-align: middle;\n",
       "    }\n",
       "\n",
       "    .dataframe tbody tr th {\n",
       "        vertical-align: top;\n",
       "    }\n",
       "\n",
       "    .dataframe thead th {\n",
       "        text-align: right;\n",
       "    }\n",
       "</style>\n",
       "<table border=\"1\" class=\"dataframe\">\n",
       "  <thead>\n",
       "    <tr style=\"text-align: right;\">\n",
       "      <th></th>\n",
       "      <th>Job_Title</th>\n",
       "      <th>Experience</th>\n",
       "      <th>Salary</th>\n",
       "      <th>Remote</th>\n",
       "    </tr>\n",
       "  </thead>\n",
       "  <tbody>\n",
       "    <tr>\n",
       "      <th>0</th>\n",
       "      <td>Data Scientist</td>\n",
       "      <td>5.0</td>\n",
       "      <td>120</td>\n",
       "      <td>yes</td>\n",
       "    </tr>\n",
       "    <tr>\n",
       "      <th>1</th>\n",
       "      <td>Software Engineering</td>\n",
       "      <td>2.0</td>\n",
       "      <td>80</td>\n",
       "      <td>no</td>\n",
       "    </tr>\n",
       "    <tr>\n",
       "      <th>2</th>\n",
       "      <td>Market Manager</td>\n",
       "      <td>4.0</td>\n",
       "      <td>95</td>\n",
       "      <td>yes</td>\n",
       "    </tr>\n",
       "    <tr>\n",
       "      <th>3</th>\n",
       "      <td>Graphic Designer</td>\n",
       "      <td>1.0</td>\n",
       "      <td>50</td>\n",
       "      <td>no</td>\n",
       "    </tr>\n",
       "    <tr>\n",
       "      <th>4</th>\n",
       "      <td>Data Scientist</td>\n",
       "      <td>8.0</td>\n",
       "      <td>1500</td>\n",
       "      <td>no</td>\n",
       "    </tr>\n",
       "  </tbody>\n",
       "</table>\n",
       "</div>"
      ],
      "text/plain": [
       "              Job_Title  Experience  Salary Remote\n",
       "0        Data Scientist         5.0     120    yes\n",
       "1  Software Engineering         2.0      80     no\n",
       "2        Market Manager         4.0      95    yes\n",
       "3      Graphic Designer         1.0      50     no\n",
       "4        Data Scientist         8.0    1500     no"
      ]
     },
     "execution_count": 265,
     "metadata": {},
     "output_type": "execute_result"
    }
   ],
   "source": [
    "df['Experience'] = df['Experience'].fillna(df['Experience'].mean())\n",
    "df['Remote'] = df['Remote'].fillna(df['Remote'].mode()[0])\n",
    "df"
   ]
  },
  {
   "cell_type": "markdown",
   "id": "e87ea7f9",
   "metadata": {},
   "source": [
    "### Normalized/Scaled 'Experience' and 'Salary' using min-max normalization"
   ]
  },
  {
   "cell_type": "code",
   "execution_count": 266,
   "id": "76cd51b8",
   "metadata": {},
   "outputs": [],
   "source": [
    "df['Min_Max_Scaled_Experience'] = (df['Experience'] - df['Experience'].min()) / (df['Experience'].max() - df['Experience'].min())\n",
    "df['Min_Max_Scaled_Salary'] = (df['Salary'] - df['Salary'].min()) / (df['Salary'].max() - df['Salary'].min())"
   ]
  },
  {
   "cell_type": "code",
   "execution_count": 267,
   "id": "131f1090",
   "metadata": {},
   "outputs": [
    {
     "data": {
      "text/html": [
       "<div>\n",
       "<style scoped>\n",
       "    .dataframe tbody tr th:only-of-type {\n",
       "        vertical-align: middle;\n",
       "    }\n",
       "\n",
       "    .dataframe tbody tr th {\n",
       "        vertical-align: top;\n",
       "    }\n",
       "\n",
       "    .dataframe thead th {\n",
       "        text-align: right;\n",
       "    }\n",
       "</style>\n",
       "<table border=\"1\" class=\"dataframe\">\n",
       "  <thead>\n",
       "    <tr style=\"text-align: right;\">\n",
       "      <th></th>\n",
       "      <th>Job_Title</th>\n",
       "      <th>Experience</th>\n",
       "      <th>Salary</th>\n",
       "      <th>Remote</th>\n",
       "      <th>Min_Max_Scaled_Experience</th>\n",
       "      <th>Min_Max_Scaled_Salary</th>\n",
       "    </tr>\n",
       "  </thead>\n",
       "  <tbody>\n",
       "    <tr>\n",
       "      <th>0</th>\n",
       "      <td>Data Scientist</td>\n",
       "      <td>5.0</td>\n",
       "      <td>120</td>\n",
       "      <td>yes</td>\n",
       "      <td>0.571429</td>\n",
       "      <td>0.048276</td>\n",
       "    </tr>\n",
       "    <tr>\n",
       "      <th>1</th>\n",
       "      <td>Software Engineering</td>\n",
       "      <td>2.0</td>\n",
       "      <td>80</td>\n",
       "      <td>no</td>\n",
       "      <td>0.142857</td>\n",
       "      <td>0.020690</td>\n",
       "    </tr>\n",
       "    <tr>\n",
       "      <th>2</th>\n",
       "      <td>Market Manager</td>\n",
       "      <td>4.0</td>\n",
       "      <td>95</td>\n",
       "      <td>yes</td>\n",
       "      <td>0.428571</td>\n",
       "      <td>0.031034</td>\n",
       "    </tr>\n",
       "    <tr>\n",
       "      <th>3</th>\n",
       "      <td>Graphic Designer</td>\n",
       "      <td>1.0</td>\n",
       "      <td>50</td>\n",
       "      <td>no</td>\n",
       "      <td>0.000000</td>\n",
       "      <td>0.000000</td>\n",
       "    </tr>\n",
       "    <tr>\n",
       "      <th>4</th>\n",
       "      <td>Data Scientist</td>\n",
       "      <td>8.0</td>\n",
       "      <td>1500</td>\n",
       "      <td>no</td>\n",
       "      <td>1.000000</td>\n",
       "      <td>1.000000</td>\n",
       "    </tr>\n",
       "  </tbody>\n",
       "</table>\n",
       "</div>"
      ],
      "text/plain": [
       "              Job_Title  Experience  Salary Remote  Min_Max_Scaled_Experience  \\\n",
       "0        Data Scientist         5.0     120    yes                   0.571429   \n",
       "1  Software Engineering         2.0      80     no                   0.142857   \n",
       "2        Market Manager         4.0      95    yes                   0.428571   \n",
       "3      Graphic Designer         1.0      50     no                   0.000000   \n",
       "4        Data Scientist         8.0    1500     no                   1.000000   \n",
       "\n",
       "   Min_Max_Scaled_Salary  \n",
       "0               0.048276  \n",
       "1               0.020690  \n",
       "2               0.031034  \n",
       "3               0.000000  \n",
       "4               1.000000  "
      ]
     },
     "execution_count": 267,
     "metadata": {},
     "output_type": "execute_result"
    }
   ],
   "source": [
    "df.head()"
   ]
  },
  {
   "cell_type": "markdown",
   "id": "ec6722dc",
   "metadata": {},
   "source": [
    "### Encoded job titles using label encoder"
   ]
  },
  {
   "cell_type": "code",
   "execution_count": 268,
   "id": "6794e9b8",
   "metadata": {},
   "outputs": [
    {
     "data": {
      "text/html": [
       "<div>\n",
       "<style scoped>\n",
       "    .dataframe tbody tr th:only-of-type {\n",
       "        vertical-align: middle;\n",
       "    }\n",
       "\n",
       "    .dataframe tbody tr th {\n",
       "        vertical-align: top;\n",
       "    }\n",
       "\n",
       "    .dataframe thead th {\n",
       "        text-align: right;\n",
       "    }\n",
       "</style>\n",
       "<table border=\"1\" class=\"dataframe\">\n",
       "  <thead>\n",
       "    <tr style=\"text-align: right;\">\n",
       "      <th></th>\n",
       "      <th>Job_Title</th>\n",
       "      <th>Experience</th>\n",
       "      <th>Salary</th>\n",
       "      <th>Remote</th>\n",
       "      <th>Min_Max_Scaled_Experience</th>\n",
       "      <th>Min_Max_Scaled_Salary</th>\n",
       "      <th>Encoded_Job_Title</th>\n",
       "    </tr>\n",
       "  </thead>\n",
       "  <tbody>\n",
       "    <tr>\n",
       "      <th>0</th>\n",
       "      <td>Data Scientist</td>\n",
       "      <td>5.0</td>\n",
       "      <td>120</td>\n",
       "      <td>yes</td>\n",
       "      <td>0.571429</td>\n",
       "      <td>0.048276</td>\n",
       "      <td>0</td>\n",
       "    </tr>\n",
       "    <tr>\n",
       "      <th>1</th>\n",
       "      <td>Software Engineering</td>\n",
       "      <td>2.0</td>\n",
       "      <td>80</td>\n",
       "      <td>no</td>\n",
       "      <td>0.142857</td>\n",
       "      <td>0.020690</td>\n",
       "      <td>3</td>\n",
       "    </tr>\n",
       "    <tr>\n",
       "      <th>2</th>\n",
       "      <td>Market Manager</td>\n",
       "      <td>4.0</td>\n",
       "      <td>95</td>\n",
       "      <td>yes</td>\n",
       "      <td>0.428571</td>\n",
       "      <td>0.031034</td>\n",
       "      <td>2</td>\n",
       "    </tr>\n",
       "    <tr>\n",
       "      <th>3</th>\n",
       "      <td>Graphic Designer</td>\n",
       "      <td>1.0</td>\n",
       "      <td>50</td>\n",
       "      <td>no</td>\n",
       "      <td>0.000000</td>\n",
       "      <td>0.000000</td>\n",
       "      <td>1</td>\n",
       "    </tr>\n",
       "    <tr>\n",
       "      <th>4</th>\n",
       "      <td>Data Scientist</td>\n",
       "      <td>8.0</td>\n",
       "      <td>1500</td>\n",
       "      <td>no</td>\n",
       "      <td>1.000000</td>\n",
       "      <td>1.000000</td>\n",
       "      <td>0</td>\n",
       "    </tr>\n",
       "  </tbody>\n",
       "</table>\n",
       "</div>"
      ],
      "text/plain": [
       "              Job_Title  Experience  Salary Remote  Min_Max_Scaled_Experience  \\\n",
       "0        Data Scientist         5.0     120    yes                   0.571429   \n",
       "1  Software Engineering         2.0      80     no                   0.142857   \n",
       "2        Market Manager         4.0      95    yes                   0.428571   \n",
       "3      Graphic Designer         1.0      50     no                   0.000000   \n",
       "4        Data Scientist         8.0    1500     no                   1.000000   \n",
       "\n",
       "   Min_Max_Scaled_Salary  Encoded_Job_Title  \n",
       "0               0.048276                  0  \n",
       "1               0.020690                  3  \n",
       "2               0.031034                  2  \n",
       "3               0.000000                  1  \n",
       "4               1.000000                  0  "
      ]
     },
     "execution_count": 268,
     "metadata": {},
     "output_type": "execute_result"
    }
   ],
   "source": [
    "le = LabelEncoder()\n",
    "df['Encoded_Job_Title'] = le.fit_transform(df['Job_Title'])\n",
    "df.head()"
   ]
  }
 ],
 "metadata": {
  "kernelspec": {
   "display_name": ".venv",
   "language": "python",
   "name": "python3"
  },
  "language_info": {
   "codemirror_mode": {
    "name": "ipython",
    "version": 3
   },
   "file_extension": ".py",
   "mimetype": "text/x-python",
   "name": "python",
   "nbconvert_exporter": "python",
   "pygments_lexer": "ipython3",
   "version": "3.12.3"
  }
 },
 "nbformat": 4,
 "nbformat_minor": 5
}
