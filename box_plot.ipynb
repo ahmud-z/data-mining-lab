{
 "cells": [
  {
   "cell_type": "markdown",
   "id": "125f92b5",
   "metadata": {},
   "source": [
    "### Imports Libraries"
   ]
  },
  {
   "cell_type": "code",
   "execution_count": 50,
   "id": "7d21a2eb",
   "metadata": {},
   "outputs": [],
   "source": [
    "import pandas as pd\n",
    "import numpy as np\n",
    "import seaborn as sns"
   ]
  },
  {
   "cell_type": "markdown",
   "id": "c9827e48",
   "metadata": {},
   "source": [
    "### Prepare dataset using pandas"
   ]
  },
  {
   "cell_type": "code",
   "execution_count": 51,
   "id": "d4267603",
   "metadata": {},
   "outputs": [],
   "source": [
    "data = {\n",
    "    \"Student_ID\": [101, 102, 103, 104, 105],\n",
    "    \"CGPA\": [3.8, 3.2, np.nan, 3.9, 2.7],\n",
    "    \"Major\": [\"CSE\", \"EEE\", \"Busisness\", \"CSE\", \"Economics\"],\n",
    "    \"Intership\": [2, 1, 0, 3, np.nan],\n",
    "    \"Placed\": [\"yes\", \"no\", \"no\", \"yes\", \"no\"],\n",
    "}\n",
    "\n",
    "df = pd.DataFrame(data)"
   ]
  },
  {
   "cell_type": "code",
   "execution_count": 52,
   "id": "d6ed1a53",
   "metadata": {},
   "outputs": [
    {
     "data": {
      "text/html": [
       "<div>\n",
       "<style scoped>\n",
       "    .dataframe tbody tr th:only-of-type {\n",
       "        vertical-align: middle;\n",
       "    }\n",
       "\n",
       "    .dataframe tbody tr th {\n",
       "        vertical-align: top;\n",
       "    }\n",
       "\n",
       "    .dataframe thead th {\n",
       "        text-align: right;\n",
       "    }\n",
       "</style>\n",
       "<table border=\"1\" class=\"dataframe\">\n",
       "  <thead>\n",
       "    <tr style=\"text-align: right;\">\n",
       "      <th></th>\n",
       "      <th>Student_ID</th>\n",
       "      <th>CGPA</th>\n",
       "      <th>Major</th>\n",
       "      <th>Intership</th>\n",
       "      <th>Placed</th>\n",
       "    </tr>\n",
       "  </thead>\n",
       "  <tbody>\n",
       "    <tr>\n",
       "      <th>0</th>\n",
       "      <td>101</td>\n",
       "      <td>3.8</td>\n",
       "      <td>CSE</td>\n",
       "      <td>2.0</td>\n",
       "      <td>yes</td>\n",
       "    </tr>\n",
       "    <tr>\n",
       "      <th>1</th>\n",
       "      <td>102</td>\n",
       "      <td>3.2</td>\n",
       "      <td>EEE</td>\n",
       "      <td>1.0</td>\n",
       "      <td>no</td>\n",
       "    </tr>\n",
       "    <tr>\n",
       "      <th>2</th>\n",
       "      <td>103</td>\n",
       "      <td>NaN</td>\n",
       "      <td>Busisness</td>\n",
       "      <td>0.0</td>\n",
       "      <td>no</td>\n",
       "    </tr>\n",
       "    <tr>\n",
       "      <th>3</th>\n",
       "      <td>104</td>\n",
       "      <td>3.9</td>\n",
       "      <td>CSE</td>\n",
       "      <td>3.0</td>\n",
       "      <td>yes</td>\n",
       "    </tr>\n",
       "    <tr>\n",
       "      <th>4</th>\n",
       "      <td>105</td>\n",
       "      <td>2.7</td>\n",
       "      <td>Economics</td>\n",
       "      <td>NaN</td>\n",
       "      <td>no</td>\n",
       "    </tr>\n",
       "  </tbody>\n",
       "</table>\n",
       "</div>"
      ],
      "text/plain": [
       "   Student_ID  CGPA      Major  Intership Placed\n",
       "0         101   3.8        CSE        2.0    yes\n",
       "1         102   3.2        EEE        1.0     no\n",
       "2         103   NaN  Busisness        0.0     no\n",
       "3         104   3.9        CSE        3.0    yes\n",
       "4         105   2.7  Economics        NaN     no"
      ]
     },
     "execution_count": 52,
     "metadata": {},
     "output_type": "execute_result"
    }
   ],
   "source": [
    "df.head()"
   ]
  },
  {
   "cell_type": "markdown",
   "id": "feba8da8",
   "metadata": {},
   "source": [
    "### Prints Atrribute names along with number of empty tuple count"
   ]
  },
  {
   "cell_type": "code",
   "execution_count": 53,
   "id": "2486da82",
   "metadata": {},
   "outputs": [
    {
     "name": "stdout",
     "output_type": "stream",
     "text": [
      "Atrribute - Total Empty\n",
      "-----------------------\n",
      "Student_ID    0\n",
      "CGPA          1\n",
      "Major         0\n",
      "Intership     1\n",
      "Placed        0\n",
      "dtype: int64\n"
     ]
    }
   ],
   "source": [
    "print('Atrribute - Total Empty')\n",
    "print('-----------------------')\n",
    "print(df.isnull().sum())"
   ]
  },
  {
   "cell_type": "markdown",
   "id": "42565c9d",
   "metadata": {},
   "source": [
    "### Filled empty tuples of 'CGPA' attribute using mean value and 'Intership' attribute using mode value"
   ]
  },
  {
   "cell_type": "code",
   "execution_count": 54,
   "id": "b49c5fb6",
   "metadata": {},
   "outputs": [],
   "source": [
    "df[\"CGPA\"] = df[\"CGPA\"].fillna(df[\"CGPA\"].mean())\n",
    "df[\"Intership\"] = df[\"Intership\"].fillna(df[\"Intership\"].mode()[0])"
   ]
  },
  {
   "cell_type": "code",
   "execution_count": 55,
   "id": "566c0e90",
   "metadata": {},
   "outputs": [
    {
     "data": {
      "text/html": [
       "<div>\n",
       "<style scoped>\n",
       "    .dataframe tbody tr th:only-of-type {\n",
       "        vertical-align: middle;\n",
       "    }\n",
       "\n",
       "    .dataframe tbody tr th {\n",
       "        vertical-align: top;\n",
       "    }\n",
       "\n",
       "    .dataframe thead th {\n",
       "        text-align: right;\n",
       "    }\n",
       "</style>\n",
       "<table border=\"1\" class=\"dataframe\">\n",
       "  <thead>\n",
       "    <tr style=\"text-align: right;\">\n",
       "      <th></th>\n",
       "      <th>Student_ID</th>\n",
       "      <th>CGPA</th>\n",
       "      <th>Major</th>\n",
       "      <th>Intership</th>\n",
       "      <th>Placed</th>\n",
       "    </tr>\n",
       "  </thead>\n",
       "  <tbody>\n",
       "    <tr>\n",
       "      <th>0</th>\n",
       "      <td>101</td>\n",
       "      <td>3.8</td>\n",
       "      <td>CSE</td>\n",
       "      <td>2.0</td>\n",
       "      <td>yes</td>\n",
       "    </tr>\n",
       "    <tr>\n",
       "      <th>1</th>\n",
       "      <td>102</td>\n",
       "      <td>3.2</td>\n",
       "      <td>EEE</td>\n",
       "      <td>1.0</td>\n",
       "      <td>no</td>\n",
       "    </tr>\n",
       "    <tr>\n",
       "      <th>2</th>\n",
       "      <td>103</td>\n",
       "      <td>3.4</td>\n",
       "      <td>Busisness</td>\n",
       "      <td>0.0</td>\n",
       "      <td>no</td>\n",
       "    </tr>\n",
       "    <tr>\n",
       "      <th>3</th>\n",
       "      <td>104</td>\n",
       "      <td>3.9</td>\n",
       "      <td>CSE</td>\n",
       "      <td>3.0</td>\n",
       "      <td>yes</td>\n",
       "    </tr>\n",
       "    <tr>\n",
       "      <th>4</th>\n",
       "      <td>105</td>\n",
       "      <td>2.7</td>\n",
       "      <td>Economics</td>\n",
       "      <td>0.0</td>\n",
       "      <td>no</td>\n",
       "    </tr>\n",
       "  </tbody>\n",
       "</table>\n",
       "</div>"
      ],
      "text/plain": [
       "   Student_ID  CGPA      Major  Intership Placed\n",
       "0         101   3.8        CSE        2.0    yes\n",
       "1         102   3.2        EEE        1.0     no\n",
       "2         103   3.4  Busisness        0.0     no\n",
       "3         104   3.9        CSE        3.0    yes\n",
       "4         105   2.7  Economics        0.0     no"
      ]
     },
     "execution_count": 55,
     "metadata": {},
     "output_type": "execute_result"
    }
   ],
   "source": [
    "df.head()"
   ]
  },
  {
   "cell_type": "code",
   "execution_count": 56,
   "id": "5ecfd146",
   "metadata": {},
   "outputs": [
    {
     "data": {
      "text/plain": [
       "<Axes: ylabel='CGPA'>"
      ]
     },
     "execution_count": 56,
     "metadata": {},
     "output_type": "execute_result"
    },
    {
     "data": {
      "image/png": "[encoded data removed]",
      "text/plain": [
       "<Figure size 640x480 with 1 Axes>"
      ]
     },
     "metadata": {},
     "output_type": "display_data"
    }
   ],
   "source": [
    "sns.boxplot(df['CGPA'])"
   ]
  }
 ],
 "metadata": {
  "kernelspec": {
   "display_name": ".venv",
   "language": "python",
   "name": "python3"
  },
  "language_info": {
   "codemirror_mode": {
    "name": "ipython",
    "version": 3
   },
   "file_extension": ".py",
   "mimetype": "text/x-python",
   "name": "python",
   "nbconvert_exporter": "python",
   "pygments_lexer": "ipython3",
   "version": "3.12.3"
  }
 },
 "nbformat": 4,
 "nbformat_minor": 5
}
