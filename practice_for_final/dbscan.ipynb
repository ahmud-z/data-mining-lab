{
 "cells": [
  {
   "cell_type": "code",
   "execution_count": 61,
   "id": "1faa581b",
   "metadata": {},
   "outputs": [],
   "source": [
    "import pandas as pd"
   ]
  },
  {
   "cell_type": "code",
   "execution_count": 62,
   "id": "29372b28",
   "metadata": {},
   "outputs": [
    {
     "data": {
      "text/html": [
       "<div>\n",
       "<style scoped>\n",
       "    .dataframe tbody tr th:only-of-type {\n",
       "        vertical-align: middle;\n",
       "    }\n",
       "\n",
       "    .dataframe tbody tr th {\n",
       "        vertical-align: top;\n",
       "    }\n",
       "\n",
       "    .dataframe thead th {\n",
       "        text-align: right;\n",
       "    }\n",
       "</style>\n",
       "<table border=\"1\" class=\"dataframe\">\n",
       "  <thead>\n",
       "    <tr style=\"text-align: right;\">\n",
       "      <th></th>\n",
       "      <th>Point</th>\n",
       "      <th>X</th>\n",
       "      <th>Y</th>\n",
       "    </tr>\n",
       "  </thead>\n",
       "  <tbody>\n",
       "    <tr>\n",
       "      <th>0</th>\n",
       "      <td>P1</td>\n",
       "      <td>3</td>\n",
       "      <td>7</td>\n",
       "    </tr>\n",
       "    <tr>\n",
       "      <th>1</th>\n",
       "      <td>P2</td>\n",
       "      <td>4</td>\n",
       "      <td>6</td>\n",
       "    </tr>\n",
       "  </tbody>\n",
       "</table>\n",
       "</div>"
      ],
      "text/plain": [
       "  Point  X  Y\n",
       "0    P1  3  7\n",
       "1    P2  4  6"
      ]
     },
     "execution_count": 62,
     "metadata": {},
     "output_type": "execute_result"
    }
   ],
   "source": [
    "df = pd.read_csv('dbscan.csv')\n",
    "df.head(2)"
   ]
  },
  {
   "cell_type": "code",
   "execution_count": 63,
   "id": "1ef6b0d0",
   "metadata": {},
   "outputs": [],
   "source": [
    "from sklearn.cluster import DBSCAN"
   ]
  },
  {
   "cell_type": "code",
   "execution_count": 64,
   "id": "2bdb7b91",
   "metadata": {},
   "outputs": [],
   "source": [
    "eps_value = 1.9\n",
    "min_points = 4"
   ]
  },
  {
   "cell_type": "code",
   "execution_count": 65,
   "id": "7410bff3",
   "metadata": {},
   "outputs": [],
   "source": [
    "dbscan_model = DBSCAN(eps=eps_value, min_samples=min_points)"
   ]
  },
  {
   "cell_type": "code",
   "execution_count": 66,
   "id": "0260d9ae",
   "metadata": {},
   "outputs": [],
   "source": [
    "predicted_cluster = dbscan_model.fit_predict(df[['X','Y']])"
   ]
  },
  {
   "cell_type": "code",
   "execution_count": 67,
   "id": "0ca37e05",
   "metadata": {},
   "outputs": [],
   "source": [
    "df['cluster'] = predicted_cluster"
   ]
  },
  {
   "cell_type": "code",
   "execution_count": 68,
   "id": "82beb31f",
   "metadata": {},
   "outputs": [],
   "source": [
    "cluster1 = df[df['cluster']==0]\n",
    "cluster2 = df[df['cluster']==1]\n",
    "neg_cluster = df[df['cluster']==-1]"
   ]
  },
  {
   "cell_type": "code",
   "execution_count": 69,
   "id": "c7969ec0",
   "metadata": {},
   "outputs": [],
   "source": [
    "from matplotlib import pyplot as plt"
   ]
  },
  {
   "cell_type": "code",
   "execution_count": 70,
   "id": "56dd4938",
   "metadata": {},
   "outputs": [
    {
     "data": {
      "image/png": "[encoded data removed]",
      "text/plain": [
       "<Figure size 640x480 with 1 Axes>"
      ]
     },
     "metadata": {},
     "output_type": "display_data"
    }
   ],
   "source": [
    "plt.scatter(cluster1.X, cluster1.Y, color='violet', marker='*', label='cluster-1')\n",
    "plt.scatter(cluster2.X, cluster2.Y, color='green', label='cluster-2')\n",
    "plt.scatter(neg_cluster.X, neg_cluster.Y, color='red', marker='>', label='Noise')\n",
    "plt.legend()\n",
    "plt.show()"
   ]
  }
 ],
 "metadata": {
  "kernelspec": {
   "display_name": ".venv",
   "language": "python",
   "name": "python3"
  },
  "language_info": {
   "codemirror_mode": {
    "name": "ipython",
    "version": 3
   },
   "file_extension": ".py",
   "mimetype": "text/x-python",
   "name": "python",
   "nbconvert_exporter": "python",
   "pygments_lexer": "ipython3",
   "version": "3.12.3"
  }
 },
 "nbformat": 4,
 "nbformat_minor": 5
}
